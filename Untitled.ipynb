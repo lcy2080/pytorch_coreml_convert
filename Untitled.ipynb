{
 "cells": [
  {
   "source": [
    "import torchvision.transforms as transforms\n",
    "\n",
    "# Normalize data with mean=0.5, std=1.0\n",
    "mnist_transform = transforms.Compose([transforms.ToTensor(),\n",
    "                                      transforms.Normalize((0.5,), (1.0,))\n",
    "])"
   ],
   "cell_type": "code",
   "metadata": {},
   "execution_count": null,
   "outputs": []
  },
  {
   "source": [
    "from torchvision.datasets import MNIST\n",
    "\n",
    "download_root = './MNIST_DATASET'\n",
    "\n",
    "#train_dataset = MNIST(download_root, transform=mnist_transform, train=True, download=True)\n",
    "#valid_dataset = MNIST(download_root, transform=mnist_transform, train=False, download=True)\n",
    "test_dataset = MNIST(download_root, transform=mnist_transform, train=False, download=True)"
   ],
   "cell_type": "code",
   "metadata": {},
   "execution_count": null,
   "outputs": []
  },
  {
   "source": [
    "# Test"
   ],
   "cell_type": "markdown",
   "metadata": {}
  },
  {
   "cell_type": "code",
   "execution_count": 1,
   "metadata": {},
   "outputs": [],
   "source": [
    "import torch\n",
    "import torch.nn as nn\n",
    "import torch.nn.functional as F\n",
    "\n",
    "class _LoopBody(nn.Module):\n",
    "    def __init__(self, channels):\n",
    "        super(_LoopBody, self).__init__()\n",
    "        conv = nn.Conv2d(\n",
    "            in_channels=channels,\n",
    "            out_channels=channels,\n",
    "            kernel_size=3,\n",
    "            padding=1,\n",
    "        )\n",
    "        self.conv = conv\n",
    "\n",
    "    def forward(self, x):\n",
    "        x = self.conv(x)\n",
    "        x = F.relu(x)\n",
    "        return x\n",
    "\n",
    "class ControlFlowNet(nn.Module):\n",
    "    def __init__(self, num_channels: int):\n",
    "        super(ControlFlowNet, self).__init__()\n",
    "        self.loop_body = _LoopBody(num_channels)\n",
    "\n",
    "    def forward(self, x):\n",
    "        avg = torch.mean(x)\n",
    "        if avg.item() < 0:\n",
    "            loop_count = 2\n",
    "        else:\n",
    "            loop_count = 1\n",
    "        for _ in range(loop_count):\n",
    "            x = self.loop_body(x)\n",
    "        return x"
   ]
  },
  {
   "cell_type": "code",
   "execution_count": 2,
   "metadata": {},
   "outputs": [
    {
     "output_type": "stream",
     "name": "stdout",
     "text": [
      "ControlFlowNet(\n",
      "  (loop_body): _LoopBody(\n",
      "    (conv): Conv2d(3, 3, kernel_size=(3, 3), stride=(1, 1), padding=(1, 1))\n",
      "  )\n",
      ")\n",
      "Converting Frontend ==> MIL Ops:   0%|          | 0/10 [00:00<?, ? ops/s]\n",
      "Converting Frontend ==> MIL Ops: 0 ops [00:00, ? ops/s]\n",
      "\n",
      "Converting Frontend ==> MIL Ops: 0 ops [00:00, ? ops/s]\n",
      "\n",
      "Converting Frontend ==> MIL Ops:  83%|████████▎ | 5/6 [00:00<00:00, 1327.06 ops/s]\n",
      "\n",
      "Converting Frontend ==> MIL Ops:  83%|████████▎ | 5/6 [00:00<00:00, 1249.42 ops/s]\n",
      "Converting Frontend ==> MIL Ops:  90%|█████████ | 9/10 [00:00<00:00, 168.04 ops/s]\n",
      "Running MIL optimization passes: 100%|██████████| 18/18 [00:00<00:00, 9916.91 passes/s]\n",
      "Translating MIL ==> MLModel Ops:   0%|          | 0/12 [00:00<?, ? ops/s]\n",
      "Translating MIL ==> MLModel Ops: 0 ops [00:00, ? ops/s]\n",
      "\n",
      "Translating MIL ==> MLModel Ops: 0 ops [00:00, ? ops/s]\n",
      "\n",
      "Translating MIL ==> MLModel Ops: 100%|██████████| 2/2 [00:00<00:00, 4760.84 ops/s]\n",
      "\n",
      "Translating MIL ==> MLModel Ops: 100%|██████████| 9/9 [00:00<00:00, 12450.11 ops/s]\n",
      "Translating MIL ==> MLModel Ops: 100%|██████████| 12/12 [00:00<00:00, 564.73 ops/s]\n"
     ]
    }
   ],
   "source": [
    "model = ControlFlowNet(num_channels=3)\n",
    "print(model)\n",
    "scripted_model = torch.jit.script(model)\n",
    "\n",
    "import coremltools\n",
    "mlmodel = coremltools.converters.convert(\n",
    "  scripted_model,\n",
    "  inputs=[coremltools.TensorType(shape=(1, 3, 64, 64))],\n",
    ")\n",
    "\n",
    "mlmodel.save(\"test.mlmodel\")"
   ]
  }
 ],
 "metadata": {
  "kernelspec": {
   "display_name": "Python 3.8.8 64-bit ('pytorch_env': conda)",
   "language": "python",
   "name": "python38864bitpytorchenvcondafbf08df0972049c0a396d40f2e796ea9"
  },
  "language_info": {
   "codemirror_mode": {
    "name": "ipython",
    "version": 3
   },
   "file_extension": ".py",
   "mimetype": "text/x-python",
   "name": "python",
   "nbconvert_exporter": "python",
   "pygments_lexer": "ipython3",
   "version": "3.8.8-final"
  }
 },
 "nbformat": 4,
 "nbformat_minor": 5
}